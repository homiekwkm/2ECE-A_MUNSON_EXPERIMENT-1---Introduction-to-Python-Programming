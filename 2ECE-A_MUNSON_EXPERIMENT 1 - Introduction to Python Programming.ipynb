{
 "cells": [
  {
   "cell_type": "markdown",
   "id": "e010b20b-5302-4fec-b843-3c07d86de28b",
   "metadata": {},
   "source": [
    "### Alphabet Soup Problem"
   ]
  },
  {
   "cell_type": "code",
   "execution_count": 43,
   "id": "b5a57428-2e75-4489-bd45-6efeb2a88c62",
   "metadata": {},
   "outputs": [
    {
     "name": "stdout",
     "output_type": "stream",
     "text": [
      "123Sbdiiik\n"
     ]
    }
   ],
   "source": [
    "#Define the function\n",
    "def alphabet_soup(word):\n",
    "    #Sort the letters of an inputted word\n",
    "    sort_letters = sorted(word)\n",
    "\n",
    "    #Join together the letters after sorting\n",
    "    sorted_word = ''.join(sort_letters)\n",
    "    \n",
    "    return sorted_word\n",
    "\n",
    "#Sample output:\n",
    "result = alphabet_soup(\"Skibidi123\")\n",
    "print(result) \n",
    "#Output should be: \"123Sbdiiik\" (Sort is based on ASCII; numbers first, then uppercase letters, and then lowercase letters.)\n"
   ]
  },
  {
   "cell_type": "markdown",
   "id": "11228f58-c499-4f47-9cbb-4cdbae8c5aca",
   "metadata": {},
   "source": [
    "### Emoticon Problem"
   ]
  },
  {
   "cell_type": "code",
   "execution_count": 39,
   "id": "84b16df8-f4ea-4100-8c2d-02ddc04c9ba2",
   "metadata": {},
   "outputs": [
    {
     "name": "stdout",
     "output_type": "stream",
     "text": [
      "I wish I could :) at you and see you :D back at me again. I feel :(( when I think about it, then I go >:( remembering our days together.\n"
     ]
    }
   ],
   "source": [
    "#Define the function\n",
    "def emotify(sentence):\n",
    "    #Create a library that maps words to emoticons\n",
    "    emotify_words = {\n",
    "        \"smile\": \":)\",\n",
    "        \"grin\": \":D\",\n",
    "        \"sad\": \":((\",\n",
    "        \"mad\": \">:(\"\n",
    "    }\n",
    "\n",
    "    #Split sentence in order to let the function be able to swap a specific word in a sentence\n",
    "    words = sentence.split()\n",
    "\n",
    "    #Emotify the words\n",
    "    emotified_words = [emotify_words.get(word, word) for word in words]\n",
    "\n",
    "    #Join together the words along with the emoticons into a sentence\n",
    "    emotified_sentence = ' '.join(emotified_words)\n",
    "\n",
    "    return emotified_sentence\n",
    "\n",
    "#Sample output:\n",
    "result = emotify(\"I wish I could smile at you and see you grin back at me again. I feel sad when I think about it, then I go mad remembering our days together.\")\n",
    "print(result)\n",
    "\n",
    "#Output should be: \"I wish I could :) at you and see you :D back at me again. I feel :(( when I think about it, then I go >:( remembering our days together.\"\n"
   ]
  },
  {
   "cell_type": "markdown",
   "id": "b3c692b5-0d09-4ecd-a6a3-ef4740d1690f",
   "metadata": {},
   "source": [
    "### Unpacking List Problem"
   ]
  },
  {
   "cell_type": "code",
   "execution_count": 52,
   "id": "26e6dca4-987c-4adc-8b7a-64d9abb89b64",
   "metadata": {},
   "outputs": [
    {
     "name": "stdout",
     "output_type": "stream",
     "text": [
      "1\n",
      "[2, 3, 4, 5]\n",
      "6\n"
     ]
    }
   ],
   "source": [
    "#Make list of numbers\n",
    "numbers_on_the_board = [1, 2, 3, 4, 5, 6]\n",
    "\n",
    "#Assign elements to variables to unpack\n",
    "first = (numbers_on_the_board[0])\n",
    "middle = (numbers_on_the_board[1:5])\n",
    "last = (numbers_on_the_board[-1])\n",
    "\n",
    "\n",
    "#Print variables\n",
    "print(first)\n",
    "print(middle)\n",
    "print(last)\n",
    "\n",
    "#Output should be:\n",
    "#print(first) = 1\n",
    "#print(middle) = [2, 3, 4, 5]\n",
    "#print(last) = 6"
   ]
  },
  {
   "cell_type": "code",
   "execution_count": null,
   "id": "7d79651d-5acd-48e0-aebc-c248923d2e23",
   "metadata": {},
   "outputs": [],
   "source": []
  }
 ],
 "metadata": {
  "kernelspec": {
   "display_name": "Python 3 (ipykernel)",
   "language": "python",
   "name": "python3"
  },
  "language_info": {
   "codemirror_mode": {
    "name": "ipython",
    "version": 3
   },
   "file_extension": ".py",
   "mimetype": "text/x-python",
   "name": "python",
   "nbconvert_exporter": "python",
   "pygments_lexer": "ipython3",
   "version": "3.12.4"
  }
 },
 "nbformat": 4,
 "nbformat_minor": 5
}
